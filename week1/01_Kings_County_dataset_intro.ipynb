{
 "cells": [
  {
   "cell_type": "markdown",
   "id": "a48c7f46-9060-4cae-965d-1f1e39da336b",
   "metadata": {},
   "source": [
    "# Week 1. Kings County Housing Dataset: an intro\n",
    "\n",
    "The King County House Dataset contains a wealth of information about the price, size, location, condition and various other features of houses in Washington’s King County, US.\n",
    "\n",
    "Here below you can see a map of the Kings County:\n",
    "\n",
    "![Kings_County](../images/kings-county.jpg)"
   ]
  },
  {
   "cell_type": "markdown",
   "id": "61f28dbc-c185-480e-bfcb-fb5649779913",
   "metadata": {},
   "source": [
    "## Setup\n",
    "\n",
    "Declare all our imports"
   ]
  },
  {
   "cell_type": "code",
   "execution_count": 1,
   "id": "4be5d3a1-0253-4b79-9567-9c0dc9e6dac1",
   "metadata": {},
   "outputs": [],
   "source": [
    "import pandas as pd"
   ]
  },
  {
   "cell_type": "markdown",
   "id": "9ca42b4a-c26c-42c0-968b-71e5674cd7c9",
   "metadata": {},
   "source": [
    "## 1. Get the Data"
   ]
  },
  {
   "cell_type": "markdown",
   "id": "f37df2ab-e904-4655-8fbd-910c272b0dfd",
   "metadata": {},
   "source": [
    "**Exercise:** import the Kings  data from a CSV file using pandas, then print out the summary infos and a few samples from the dataset\n",
    "\n",
    "The dataset is located in the `datasets` directory at the root level of the project. The name of the CSV file is `kings_county_house_data.csv`."
   ]
  },
  {
   "cell_type": "code",
   "execution_count": 2,
   "id": "e205b3ec-c75a-444a-b2fc-2cc68f7e1ad4",
   "metadata": {},
   "outputs": [],
   "source": [
    "# Write your solution here. Use as many cells as you need.\n",
    "# 1) import the data\n",
    "# 2) print some summary infos\n",
    "# 3) print 5 samples/rows out of the dataset\n",
    "df = pd.read_csv('kings-county-housing-data.csv')\n",
    "df.head(5)\n",
    "df.describe()"
   ]
  },
  {
   "cell_type": "markdown",
   "id": "13c63a3c-2b54-471b-8829-9894f505d2f0",
   "metadata": {},
   "source": [
    "##### Description of the features:\n",
    "\n",
    "Here follows a detailed description of all the features (i.e. columns/variables) in the dataset.\n",
    "\n",
    "* **id** - unique identifier for a house\n",
    "* **date** - house was sold\n",
    "* **price** - price, our prediction target\n",
    "* **bedrooms** - number of Bedrooms/House\n",
    "* **bathrooms** - number of bedrooms\n",
    "* **sqft_living** - square footage of the home\n",
    "* **sqft_lot** - square footage of the entire lot\n",
    "* **floors** - total number of floors (levels) in house\n",
    "* **waterfront** - house which has a view to a waterfront\n",
    "* **view** - quality of view\n",
    "* **condition** - how good the condition is ( overall )\n",
    "* **grade** - overall grade given to the housing unit, based on King County grading system\n",
    "* **sqft_above** - square footage of house apart from basement\n",
    "* **sqft_basement** - square footage of the basement\n",
    "* **yr_built** - Built Year\n",
    "* **yr_renovated** - Year when house was renovated\n",
    "* **zipcode_group** - zip codes already preprocessed so that they are reduced to 9 groups (out of 70 zipcodes)\n",
    "* **lat** - Latitude coordinate\n",
    "* **long** - Longitude coordinate\n",
    "* **sqft_living15** - The square footage of interior housing living space for the nearest 15 neighbours\n",
    "* **sqft_lot15** - The square footage of the land lots of the nearest 15 neighbours"
   ]
  },
  {
   "cell_type": "markdown",
   "id": "709b6055-3ce6-458c-86b6-0078a8b2fad5",
   "metadata": {},
   "source": [
    "Our goal in the next two weeks will be to build an estimator that predicts the price of a house in Kings County based on the other features in the dataset."
   ]
  },
  {
   "cell_type": "code",
   "execution_count": null,
   "id": "724866c5-6332-4cfa-9d7d-a090e89ac5fc",
   "metadata": {},
   "outputs": [],
   "source": []
  }
 ],
 "metadata": {
  "kernelspec": {
   "display_name": "Python 3 (ipykernel)",
   "language": "python",
   "name": "python3"
  },
  "language_info": {
   "codemirror_mode": {
    "name": "ipython",
    "version": 3
   },
   "file_extension": ".py",
   "mimetype": "text/x-python",
   "name": "python",
   "nbconvert_exporter": "python",
   "pygments_lexer": "ipython3",
   "version": "3.11.10"
  }
 },
 "nbformat": 4,
 "nbformat_minor": 5
}
