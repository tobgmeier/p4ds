{
 "cells": [
  {
   "attachments": {},
   "cell_type": "markdown",
   "metadata": {},
   "source": [
    "# Second Assignment\n",
    "\n",
    "For this assignment you will have to identify a suitable dataset and implement a machine learning pipeline, comprising the following steps:\n",
    "\n",
    "* Presentation of the problem (10 points)\n",
    "* data exploration (10 points)\n",
    "* data preparation (10 points)\n",
    "* model selection: try 2 models (max 3) (20 points)\n",
    "* evaluation on test set (5 points)\n",
    "* conclusion commenting on the results and comparing the models (15 points)\n",
    "\n",
    "**Total: 70 points**\n",
    "\n",
    "Some possible datasets:\n",
    "* [Titanic dataset](https://www.kaggle.com/c/titanic): binary classification\n",
    "* [Wine dataset](https://www.kaggle.com/datasets/yasserh/wine-quality-dataset): multi-class classification/regression\n",
    "* [Abalone dataset](https://www.kaggle.com/datasets/rodolfomendes/abalone-dataset): regression\n",
    "* [California housing price](https://www.kaggle.com/datasets/camnugent/california-housing-prices): regression\n",
    "* [CIFAR-10](http://www.cs.toronto.edu/~kriz/cifar.html): multi-class classification in images\n",
    "\n",
    "Look for more on [Kaggle](https://www.kaggle.com/datasets) or elsewhere.\n",
    "\n",
    "**Deadline: Fri 4th April 2025**\n",
    "\n",
    "**Submission:** Please email your solutions and your completed Declaration of Authorship (DoA) form to weeklyclasses@conted.ox.ac.uk "
   ]
  },
  {
   "cell_type": "code",
   "execution_count": null,
   "metadata": {},
   "outputs": [],
   "source": []
  }
 ],
 "metadata": {
  "kernelspec": {
   "display_name": "Python 3 (ipykernel)",
   "language": "python",
   "name": "python3"
  },
  "language_info": {
   "codemirror_mode": {
    "name": "ipython",
    "version": 3
   },
   "file_extension": ".py",
   "mimetype": "text/x-python",
   "name": "python",
   "nbconvert_exporter": "python",
   "pygments_lexer": "ipython3",
   "version": "3.11.4"
  },
  "vscode": {
   "interpreter": {
    "hash": "867df1ee534d26f2c7c906fca85dfba438b7170d4a41fa95ef57b9d1241c9022"
   }
  }
 },
 "nbformat": 4,
 "nbformat_minor": 2
}
